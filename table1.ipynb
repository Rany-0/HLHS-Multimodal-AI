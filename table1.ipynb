{
 "cells": [
  {
   "cell_type": "code",
   "execution_count": 17,
   "metadata": {},
   "outputs": [
    {
     "name": "stdout",
     "output_type": "stream",
     "text": [
      "e:\\SFYdataJPG\\Code\\imagescore5\\imagescore5\\lefthearttable-all\n"
     ]
    }
   ],
   "source": [
    "import os\n",
    "import numpy as np\n",
    "import pandas as pd\n",
    "import scipy.stats\n",
    "\n",
    "# F检验用于检查给定的两个样本方差是否一致\n",
    "def f_test(group1, group2):\n",
    "  f = np.var(group1, ddof=1)/np.var(group2, ddof=1)\n",
    "  nun = len(group1)-1\n",
    "  dun = len(group2)-1\n",
    "  p_value = 1-scipy.stats.f.cdf(f, nun, dun)\n",
    "  return f, p_value\n",
    "\n",
    "# 显著性阈值\n",
    "pval = 0.05\n",
    "import os\n",
    "print( os .getcwd ())\n",
    "# 获取数据\n",
    "train_df = pd.read_csv(r\"E:\\SFYdataJPG\\小脑\\论文\\datacsv\\train_dataset111.csv\")\n",
    "test_df = pd.read_csv(r\"E:\\SFYdataJPG\\小脑\\论文\\datacsv\\test_dataset111.csv\")\n",
    "# 计算训练集和测试集的特征均值和标准差，检查是否存在显著性差异\n",
    "assert train_df.shape[1]==test_df.shape[1], \"训练集和测试集的特征数量应保持一致！\"\n",
    "# type(train_df.shape)#元组类型\n",
    "nFeatures = train_df.shape[1]-2  #16个特征\n",
    "featureName = train_df.columns[2:]#获取列名"
   ]
  },
  {
   "cell_type": "code",
   "execution_count": null,
   "metadata": {},
   "outputs": [
    {
     "data": {
      "text/plain": [
       "Index(['age', 'fetal clinical gestational age',\n",
       "       'fetal ultrasound gestational age'],\n",
       "      dtype='object')"
      ]
     },
     "execution_count": 6,
     "metadata": {},
     "output_type": "execute_result"
    }
   ],
   "source": [
    "nFeatures\n",
    "featureName"
   ]
  },
  {
   "cell_type": "code",
   "execution_count": 18,
   "metadata": {},
   "outputs": [
    {
     "name": "stdout",
     "output_type": "stream",
     "text": [
      "age : 30.90 +- 4.23 | 30.54 +- 4.08 | 0.4926\n",
      "fetal clinical gestational age : 28.05 +- 4.08 | 28.69 +- 3.76 | 0.2125\n",
      "fetal ultrasound gestational age : 28.13 +- 4.25 | 28.93 +- 3.91 | 0.1396\n",
      "\n",
      "\n",
      "=============================== 以上为表1数据 ===============================\n",
      "\n",
      "\n"
     ]
    }
   ],
   "source": [
    "from scipy.stats import ttest_ind\n",
    "pFeatures = dict()\n",
    "trainFMean = []\n",
    "trainFStd = []\n",
    "testFMean = []\n",
    "testFStd = []\n",
    "pvalue = []\n",
    "for i in range(nFeatures):\n",
    "    trainFeature = train_df.iloc[:,i+2]\n",
    "    testFeature = test_df.iloc[:,i+2]\n",
    "\n",
    "    fm = np.mean(trainFeature)\n",
    "    fv = np.std(trainFeature)\n",
    "    tm = np.mean(testFeature)\n",
    "    tv = np.std(testFeature)\n",
    "\n",
    "    trainFMean.append(fm)\n",
    "    trainFStd.append(fv)\n",
    "    testFMean.append(tm)\n",
    "    testFStd.append(tv)   \n",
    "\n",
    "    # # 基于F-test结果检查是否存在方差一致性\n",
    "    # _, ftest_p = f_test(trainFeature,testFeature)\n",
    "    # _, p = scipy.stats.ttest_ind(trainFeature,testFeature,equal_var=ftest_p>pval)\n",
    "    # pvalue.append(p)\n",
    "    # pFeatures[featureName[i]] = p\n",
    "    # 使用 T-检验结果检查是否存在显著差异\n",
    "    _, p = ttest_ind(trainFeature, testFeature, equal_var=True)  # 设置 equal_var=False 表示假设方差不相等\n",
    "    pvalue.append(p)\n",
    "    pFeatures[featureName[i]] = p\n",
    "\n",
    "    print(\"{:s} : {:.2f} +- {:.2f} | {:.2f} +- {:.2f} | {:.4f}\".format(featureName[i],fm,fv,tm,tv, p))\n",
    "print(\"\\n\")\n",
    "print(\"=============================== 以上为表1数据 ===============================\")\n",
    "print(\"\\n\")\n"
   ]
  },
  {
   "cell_type": "code",
   "execution_count": 10,
   "metadata": {},
   "outputs": [
    {
     "name": "stdout",
     "output_type": "stream",
     "text": [
      "                        featureName trainFMen ± trainFStd testFMen ± testFStd  \\\n",
      "0                               age          30.85 ± 4.33        30.34 ± 3.95   \n",
      "1    fetal clinical gestational age          28.12 ± 4.05        28.61 ± 3.97   \n",
      "2  fetal ultrasound gestational age           28.2 ± 4.23        28.81 ± 4.16   \n",
      "\n",
      "   pvalue  \n",
      "0  0.3229  \n",
      "1  0.3205  \n",
      "2  0.2269  \n"
     ]
    }
   ],
   "source": [
    "data = {\n",
    "    'featureName': featureName[:].tolist(),\n",
    "    'trainFMean': trainFMean[:],\n",
    "    'trainFStd': trainFStd[:],\n",
    "    'testFMean': testFMean[:],\n",
    "    'testFStd':  testFStd[:],\n",
    "    'pvalue': pvalue[:]\n",
    "}\n",
    "# print(\"Length of featureName:\", len(featureName))\n",
    "# print(\"Length of trainFMean:\", len(trainFMean))\n",
    "# print(\"Length of trainFStd:\", len(trainFStd))\n",
    "# print(\"Length of testFMean:\", len(testFMean))\n",
    "# print(\"Length of testFStd:\", len(testFStd))\n",
    "# print(\"Length of pvalue:\", len(pvalue))\n",
    "\n",
    "# 创建DataFrame\n",
    "df = pd.DataFrame(data)\n",
    "# 设置小数位数\n",
    "df['trainFMean'] = df['trainFMean'].round(2)\n",
    "df['trainFStd'] = df['trainFStd'].round(2)\n",
    "df['testFMean'] = df['testFMean'].round(2)\n",
    "df['testFStd'] = df['testFStd'].round(2)\n",
    "df['pvalue'] = df['pvalue'].round(4)\n",
    "# 创建新列，格式为\"列一 ± 列二\"\n",
    "df['trainFMen ± trainFStd'] = df['trainFMean'].astype(str) + ' ± ' + df['trainFStd'].astype(str)\n",
    "df['testFMen ± testFStd'] = df['testFMean'].astype(str) + ' ± ' + df['testFStd'].astype(str)\n",
    "# 删除旧的两列\n",
    "df = df.drop(['trainFMean', 'trainFStd'], axis=1)\n",
    "df = df.drop(['testFMean', 'testFStd'], axis=1)\n",
    "# 重新排列列的顺序\n",
    "df = df[['featureName', 'trainFMen ± trainFStd', 'testFMen ± testFStd', 'pvalue']]\n",
    "# 打印DataFrame\n",
    "print(df)\n",
    "df.to_excel(r'E:\\SFYdataJPG\\小脑\\论文\\table1.xlsx',index=False)"
   ]
  },
  {
   "cell_type": "markdown",
   "metadata": {},
   "source": []
  }
 ],
 "metadata": {
  "kernelspec": {
   "display_name": "base",
   "language": "python",
   "name": "python3"
  },
  "language_info": {
   "codemirror_mode": {
    "name": "ipython",
    "version": 3
   },
   "file_extension": ".py",
   "mimetype": "text/x-python",
   "name": "python",
   "nbconvert_exporter": "python",
   "pygments_lexer": "ipython3",
   "version": "undefined.undefined.undefined"
  },
  "orig_nbformat": 4
 },
 "nbformat": 4,
 "nbformat_minor": 2
}
