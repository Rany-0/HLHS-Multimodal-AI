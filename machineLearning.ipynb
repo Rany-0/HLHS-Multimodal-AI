{
 "cells": [
  {
   "cell_type": "code",
   "execution_count": 85,
   "metadata": {},
   "outputs": [],
   "source": [
    "import pandas as pd\n",
    "import numpy as np\n",
    "from sklearn.preprocessing import StandardScaler\n",
    "from scipy.stats import ttest_ind, levene\n",
    "from sklearn.linear_model import LassoCV\n",
    "from sklearn.utils import shuffle\n",
    "from sklearn.model_selection import train_test_split\n",
    "from sklearn.ensemble import RandomForestClassifier\n",
    "from sklearn.tree import DecisionTreeClassifier\n",
    "import seaborn as sns #\n",
    "import matplotlib.pyplot as plt #\n",
    "from sklearn.metrics import roc_curve, roc_auc_score, classification_report #\n",
    "from sklearn.metrics import accuracy_score, classification_report"
   ]
  },
  {
   "cell_type": "code",
   "execution_count": 86,
   "metadata": {},
   "outputs": [],
   "source": [
    "train_df = pd.read_csv(r\"D:\\wxx\\SFYdataJPG\\Code\\imagescore5\\imagescore5\\train_normalize.csv\")\n",
    "test_df = pd.read_csv(r\"D:\\wxx\\SFYdataJPG\\Code\\imagescore5\\imagescore5\\test_normalize.csv\")\n",
    "# 计算训练集和测试集的特征均值和标准差，检查是否存在显著性差异\n",
    "assert train_df.shape[1]==test_df.shape[1], \"训练集和测试集的特征数量应保持一致！\"\n",
    "# type(train_df.shape)#元组类型\n",
    "nFeatures = train_df.shape[1]-2  #16个特征\n",
    "featureName = train_df.columns[2:]#获取列名"
   ]
  },
  {
   "cell_type": "code",
   "execution_count": 87,
   "metadata": {},
   "outputs": [
    {
     "data": {
      "text/plain": [
       "Index(['age', 'gestational_week', 'LA_diameter', 'RA_diameter', 'LV_diameter',\n",
       "       'RV_diameter', 'LA_area', 'LV_area', 'RA_area', 'RV_area',\n",
       "       'LA_RA_area_ratio', 'LV_RV_area_ratio',\n",
       "       'interventricular_septal_thickness', ' LV_ellipticity',\n",
       "       ' RV_ellipticity', 'Image_Score'],\n",
       "      dtype='object')"
      ]
     },
     "execution_count": 87,
     "metadata": {},
     "output_type": "execute_result"
    }
   ],
   "source": [
    "nFeatures\n",
    "featureName"
   ]
  },
  {
   "cell_type": "code",
   "execution_count": 88,
   "metadata": {},
   "outputs": [],
   "source": [
    "# selected_columns = [ 'age','gestational_week',\t'LA_diameter','RA_diameter',\n",
    "#                     'LV_diameter','RV_diameter','LA_area','LV_area',\n",
    "#                     'RV_area','RA_area','LA_RA_area_ratio','LV_RV_area_ratio','interventricular_septal_thickness',' LV_ellipticity',' RV_ellipticity']#多\n",
    "selected_columns = [ 'gestational_week',\t'LA_diameter',\n",
    "                    'LV_diameter','LA_area','LV_area',\n",
    "                    'RV_area','LA_RA_area_ratio','LV_RV_area_ratio',' LV_ellipticity']#单\n",
    "# selected_columns = [ 'LV_diameter','LA_RA_area_ratio','LV_RV_area_ratio']#多"
   ]
  },
  {
   "cell_type": "code",
   "execution_count": 89,
   "metadata": {},
   "outputs": [
    {
     "name": "stdout",
     "output_type": "stream",
     "text": [
      "     gestational_week  LA_diameter  LV_diameter   LA_area   LV_area   RV_area  \\\n",
      "0            1.561094     1.352102     1.569796  2.510497  1.408111  1.053000   \n",
      "1           -0.327506    -0.103360    -0.216287  0.286516 -0.410530 -0.476191   \n",
      "2            0.855463     0.912079     1.051256  0.223547  1.003429  0.650061   \n",
      "3            0.855463     1.081318     1.339334  0.174358 -0.263863  0.332424   \n",
      "4            0.896971     1.589038     0.964833  2.166870  1.444373  0.500442   \n",
      "..                ...          ...          ...       ...       ...       ...   \n",
      "159         -0.763336    -1.761910    -1.195752 -1.116772 -1.052601 -0.861644   \n",
      "160         -2.672690    -2.195164    -2.022536 -1.373533 -1.306033 -1.394740   \n",
      "161         -2.278367    -1.504665    -2.146409 -1.155321 -1.250763  0.028015   \n",
      "162         -0.701075    -0.712623    -1.455022 -0.945308 -1.102344  0.963290   \n",
      "163         -0.369013    -0.949559    -1.051713  1.101104 -0.518778  2.613211   \n",
      "\n",
      "     LA_RA_area_ratio  LV_RV_area_ratio   LV_ellipticity  \n",
      "0           -0.100045          0.403422        -0.215474  \n",
      "1            0.151058          0.007751         0.275328  \n",
      "2           -0.873700          0.431380        -0.307500  \n",
      "3           -0.163745         -0.698561        -0.552901  \n",
      "4            2.296223          1.107649        -0.261487  \n",
      "..                ...               ...              ...  \n",
      "159         -1.755098         -1.028443         1.241596  \n",
      "160         -1.305976         -1.461814         2.721674  \n",
      "161         -1.749900         -1.886418         5.520783  \n",
      "162         -1.356994         -1.796963         2.453266  \n",
      "163         -0.966339         -1.562362         0.482386  \n",
      "\n",
      "[164 rows x 9 columns]\n"
     ]
    }
   ],
   "source": [
    "X = train_df[selected_columns]\n",
    "Y = train_df.iloc[:,1]\n",
    "print(X)\n",
    "# print(Y) #y是label,x是特征"
   ]
  },
  {
   "cell_type": "code",
   "execution_count": 90,
   "metadata": {},
   "outputs": [
    {
     "name": "stdout",
     "output_type": "stream",
     "text": [
      "0.9047619047619048\n"
     ]
    }
   ],
   "source": [
    "model_rf = RandomForestClassifier(n_estimators = 200\n",
    "                                  , criterion = 'entropy'\n",
    "                                  , random_state = 20\n",
    "                                  , class_weight = 'balanced'\n",
    "                                 )\n",
    "model_rf.fit(X, Y)\n",
    "X_test=test_df[selected_columns]\n",
    "y_test = test_df.iloc[:,1]\n",
    "# print(len(X_test))\n",
    "print(model_rf.score(X_test,y_test))"
   ]
  },
  {
   "cell_type": "code",
   "execution_count": 91,
   "metadata": {},
   "outputs": [
    {
     "name": "stdout",
     "output_type": "stream",
     "text": [
      "0.9047619047619048\n"
     ]
    }
   ],
   "source": [
    "model_dt = DecisionTreeClassifier(criterion='entropy',  # 使用信息熵作为分裂标准\n",
    "                                  random_state=20,     # 确保结果可重复\n",
    "                                  class_weight='balanced')  # 处理类别不平衡\n",
    "model_dt.fit(X, Y)\n",
    "X_test=test_df[selected_columns]\n",
    "y_test = test_df.iloc[:,1]\n",
    "# print(len(X_test))\n",
    "print(model_dt.score(X_test,y_test))"
   ]
  },
  {
   "cell_type": "code",
   "execution_count": 92,
   "metadata": {},
   "outputs": [
    {
     "name": "stdout",
     "output_type": "stream",
     "text": [
      "0.9047619047619048\n"
     ]
    }
   ],
   "source": [
    "from sklearn.svm import SVC\n",
    "\n",
    "# 训练模型\n",
    "model_svm = SVC(probability=True,  # 启用概率估计\n",
    "                random_state=20,   # 确保结果可重复\n",
    "                class_weight='balanced')  # 处理类别不平衡\n",
    "model_svm.fit(X, Y)\n",
    "X_test=test_df[selected_columns]\n",
    "y_test = test_df.iloc[:,1]\n",
    "# print(len(X_test))\n",
    "print(model_svm.score(X_test,y_test))"
   ]
  },
  {
   "cell_type": "code",
   "execution_count": 93,
   "metadata": {},
   "outputs": [
    {
     "name": "stdout",
     "output_type": "stream",
     "text": [
      "0.9047619047619048\n"
     ]
    }
   ],
   "source": [
    "from xgboost import XGBClassifier\n",
    "\n",
    "# 训练模型\n",
    "model_xgb = XGBClassifier(n_estimators=200,      # 树的数量\n",
    "                          objective='binary:logistic',  # 二分类任务\n",
    "                          random_state=20,       # 确保结果可重复\n",
    "                          scale_pos_weight=len(Y[Y == 0]) / len(Y[Y == 1]))  # 处理类别不平衡\n",
    "model_xgb.fit(X, Y)\n",
    "X_test=test_df[selected_columns]\n",
    "y_test = test_df.iloc[:,1]\n",
    "# print(len(X_test))\n",
    "print(model_xgb.score(X_test,y_test))"
   ]
  },
  {
   "cell_type": "code",
   "execution_count": 75,
   "metadata": {},
   "outputs": [
    {
     "name": "stdout",
     "output_type": "stream",
     "text": [
      "[[0.99573207 0.00426793]\n",
      " [0.9962221  0.00377794]\n",
      " [0.9962221  0.00377794]\n",
      " [0.9962221  0.00377794]\n",
      " [0.9962221  0.00377794]\n",
      " [0.99254423 0.00745578]\n",
      " [0.7091618  0.29083818]\n",
      " [0.9962221  0.00377794]\n",
      " [0.99573207 0.00426793]\n",
      " [0.9962221  0.00377794]\n",
      " [0.99347913 0.00652089]\n",
      " [0.9962221  0.00377794]\n",
      " [0.9962221  0.00377794]\n",
      " [0.9962221  0.00377794]\n",
      " [0.9962221  0.00377794]\n",
      " [0.9962221  0.00377794]\n",
      " [0.9962221  0.00377794]\n",
      " [0.9962221  0.00377794]\n",
      " [0.99573207 0.00426793]\n",
      " [0.9962221  0.00377794]\n",
      " [0.9962221  0.00377794]\n",
      " [0.99573207 0.00426793]\n",
      " [0.01449394 0.98550606]\n",
      " [0.9908049  0.00919507]\n",
      " [0.9962221  0.00377794]\n",
      " [0.9962221  0.00377794]\n",
      " [0.9962221  0.00377794]\n",
      " [0.9962221  0.00377794]\n",
      " [0.9962221  0.00377794]\n",
      " [0.9962221  0.00377794]\n",
      " [0.9962221  0.00377794]\n",
      " [0.00390053 0.9960995 ]\n",
      " [0.00390053 0.9960995 ]\n",
      " [0.00390053 0.9960995 ]\n",
      " [0.00390053 0.9960995 ]\n",
      " [0.00390053 0.9960995 ]\n",
      " [0.95625126 0.04374875]\n",
      " [0.7091618  0.29083818]\n",
      " [0.02615333 0.9738467 ]\n",
      " [0.00390053 0.9960995 ]\n",
      " [0.01253974 0.98746026]\n",
      " [0.9962221  0.00377794]]\n",
      "Results saved to prediction_results.csv\n"
     ]
    }
   ],
   "source": [
    "# 预测标签\n",
    "# pred_labels = model_rf.predict(X_test)\n",
    "\n",
    "# 预测概率\n",
    "pred_probs = model_xgb.predict_proba(X_test)\n",
    "print(pred_probs)\n",
    "# 创建一个 DataFrame 保存结果\n",
    "results_df = pd.DataFrame({\n",
    "    'nname': test_df.iloc[:,0],\n",
    "    'label': y_test,\n",
    "    # 'Predicted_Label': pred_labels,\n",
    "    'pred_probability': pred_probs[:,1],  # 类别1的概率\n",
    "    \n",
    "    # 如果有更多类别，请继续添加\n",
    "})\n",
    "\n",
    "# 导出结果到 CSV 文件\n",
    "results_df.to_csv(r'D:\\wxx\\SFYdataJPG\\Code\\imagescore5\\imagescore5\\ML\\0728-3feaure\\tc_xgb.csv', index=False)\n",
    "\n",
    "print(\"Results saved to prediction_results.csv\")"
   ]
  }
 ],
 "metadata": {
  "kernelspec": {
   "display_name": "base",
   "language": "python",
   "name": "python3"
  },
  "language_info": {
   "codemirror_mode": {
    "name": "ipython",
    "version": 3
   },
   "file_extension": ".py",
   "mimetype": "text/x-python",
   "name": "python",
   "nbconvert_exporter": "python",
   "pygments_lexer": "ipython3",
   "version": "3.11.7"
  }
 },
 "nbformat": 4,
 "nbformat_minor": 2
}
